{
 "cells": [
  {
   "cell_type": "code",
   "execution_count": null,
   "metadata": {
    "collapsed": true
   },
   "outputs": [],
   "source": [
    "# Problem Statement 1:\n",
    "# In one state, 52% of the voters are Republicans, and 48% are Democrats. \n",
    "# In a second state, 47% of the voters are Republicans, and 53% are Democrats. \n",
    "# Suppose a simple random sample of 100 voters are surveyed from each state.\n",
    "# What is the probability that the survey will show a greater percentage of Republican voters in the second state than in the first state? \n",
    "\n",
    "Solution:\n",
    "Step 1: Determine values:\n",
    "            n1 = 100\n",
    "            n2 = 100\n",
    "            P1 (Proportion of Republican voters in first state) = 0.52\n",
    "            p1 (Proportion of Republican voters in sample form in first state) = 0.52\n",
    "            P2 (Proportion of Republican voters in second state) = 0.47\n",
    "            p2 (Proportion of Republican voters in sample form in second state) = 0.53\n",
    "Step 2: Determine sample is large enough\n",
    "            n1P1 = 100 * 0.52 = 52\n",
    "            n1(1 - P1) = 100 * 0.48 = 48\n",
    "            n2P2 = 100 * 0.47 = 47\n",
    "            n2(1 - P2) = 100 * 0.53 = 53\n",
    "            Since the sample size is greater than 10 therefore, sample size is large enough.\n",
    "Step 3: Find the mean of the difference in sample proportions: \n",
    "            E(p1 - p2) = P1 - P2 = 0.52 - 0.47 = 0.05\n",
    "Step 4: Find the standard deviation of the difference. \n",
    "            σd = sqrt{ [ P1(1 - P1) / n1 ] + [ P2(1 - P2) / n2 ] }\n",
    "            σd = sqrt{ [ (0.52)(0.48) / 100 ] + [ (0.47)(0.53) / 100 ] }\n",
    "            σd = sqrt (0.002496 + 0.002491) = sqrt(0.004987) = 0.0706\n",
    "Step 5: Find the probability. This problem requires us to find the probability that p1 < p1\n",
    "            This is equivalent to finding the probability that (p1 - p2)< 0 and \n",
    "            transform the random variable (p1 - p2) into a z-score.\n",
    "            Sunstituting in the formula:\n",
    "            Z(p1 - p2) = (x - μ(p1 - p2)) / σd = (0 - 0.05)/0.0706 = -0.7082\n",
    "            Therefore, the probability of a z-score being -0.7082 or less is 0.24.\n",
    "Therefore, the probability that the survey will show a greater percentage of Republican voters in the second state \n",
    "than in the first state is 0.24.\n"
   ]
  }
 ],
 "metadata": {
  "kernelspec": {
   "display_name": "Python 3",
   "language": "python",
   "name": "python3"
  },
  "language_info": {
   "codemirror_mode": {
    "name": "ipython",
    "version": 3
   },
   "file_extension": ".py",
   "mimetype": "text/x-python",
   "name": "python",
   "nbconvert_exporter": "python",
   "pygments_lexer": "ipython3",
   "version": "3.6.3"
  }
 },
 "nbformat": 4,
 "nbformat_minor": 2
}
